{
 "cells": [
  {
   "cell_type": "markdown",
   "metadata": {
    "collapsed": true
   },
   "source": [
    "## Analysis of used cars from eBay Kleinanzeigen\n",
    "This is a German eBay website. The dataset was originally scraped and uploaded to [Kaggle](https://www.kaggle.com/orgesleka/used-cars-database/data). We've made a few modifications from the original dataset that was uploaded to Kaggle.\n",
    "\n",
    "- We sampled 50,000 data points from the full dataset, to ensure your code runs quickly in our hosted environment\n",
    "- We dirtied the dataset a bit to more closely resemble what you would expect from a scraped dataset (the version uploaded to Kaggle was cleaned to be easier to work with)\n",
    "\n",
    "The aim of this project is to clean the data and analyze the included used car listings. You'll also become familiar with some of the unique benefits jupyter notebook provides for pandas."
   ]
  },
  {
   "cell_type": "code",
   "execution_count": 1,
   "metadata": {
    "collapsed": true
   },
   "outputs": [],
   "source": [
    "import pandas as pd\n",
    "import numpy as np"
   ]
  },
  {
   "cell_type": "code",
   "execution_count": 2,
   "metadata": {
    "collapsed": false
   },
   "outputs": [],
   "source": [
    "# if read in file without assinging encoding\n",
    "# it will default to \"UTF-8\"\n",
    "# try \"Latin-1\" or \"Windows-1252\" until you're able to read the file\n",
    "autos = pd.read_csv(\"autos.csv\", encoding = \"Windows-1252\")"
   ]
  },
  {
   "cell_type": "code",
   "execution_count": 3,
   "metadata": {
    "collapsed": false,
    "scrolled": false
   },
   "outputs": [
    {
     "data": {
      "text/html": [
       "<div>\n",
       "<style scoped>\n",
       "    .dataframe tbody tr th:only-of-type {\n",
       "        vertical-align: middle;\n",
       "    }\n",
       "\n",
       "    .dataframe tbody tr th {\n",
       "        vertical-align: top;\n",
       "    }\n",
       "\n",
       "    .dataframe thead th {\n",
       "        text-align: right;\n",
       "    }\n",
       "</style>\n",
       "<table border=\"1\" class=\"dataframe\">\n",
       "  <thead>\n",
       "    <tr style=\"text-align: right;\">\n",
       "      <th></th>\n",
       "      <th>dateCrawled</th>\n",
       "      <th>name</th>\n",
       "      <th>seller</th>\n",
       "      <th>offerType</th>\n",
       "      <th>price</th>\n",
       "      <th>abtest</th>\n",
       "      <th>vehicleType</th>\n",
       "      <th>yearOfRegistration</th>\n",
       "      <th>gearbox</th>\n",
       "      <th>powerPS</th>\n",
       "      <th>model</th>\n",
       "      <th>odometer</th>\n",
       "      <th>monthOfRegistration</th>\n",
       "      <th>fuelType</th>\n",
       "      <th>brand</th>\n",
       "      <th>notRepairedDamage</th>\n",
       "      <th>dateCreated</th>\n",
       "      <th>nrOfPictures</th>\n",
       "      <th>postalCode</th>\n",
       "      <th>lastSeen</th>\n",
       "    </tr>\n",
       "  </thead>\n",
       "  <tbody>\n",
       "    <tr>\n",
       "      <th>0</th>\n",
       "      <td>2016-03-26 17:47:46</td>\n",
       "      <td>Peugeot_807_160_NAVTECH_ON_BOARD</td>\n",
       "      <td>privat</td>\n",
       "      <td>Angebot</td>\n",
       "      <td>$5,000</td>\n",
       "      <td>control</td>\n",
       "      <td>bus</td>\n",
       "      <td>2004</td>\n",
       "      <td>manuell</td>\n",
       "      <td>158</td>\n",
       "      <td>andere</td>\n",
       "      <td>150,000km</td>\n",
       "      <td>3</td>\n",
       "      <td>lpg</td>\n",
       "      <td>peugeot</td>\n",
       "      <td>nein</td>\n",
       "      <td>2016-03-26 00:00:00</td>\n",
       "      <td>0</td>\n",
       "      <td>79588</td>\n",
       "      <td>2016-04-06 06:45:54</td>\n",
       "    </tr>\n",
       "    <tr>\n",
       "      <th>1</th>\n",
       "      <td>2016-04-04 13:38:56</td>\n",
       "      <td>BMW_740i_4_4_Liter_HAMANN_UMBAU_Mega_Optik</td>\n",
       "      <td>privat</td>\n",
       "      <td>Angebot</td>\n",
       "      <td>$8,500</td>\n",
       "      <td>control</td>\n",
       "      <td>limousine</td>\n",
       "      <td>1997</td>\n",
       "      <td>automatik</td>\n",
       "      <td>286</td>\n",
       "      <td>7er</td>\n",
       "      <td>150,000km</td>\n",
       "      <td>6</td>\n",
       "      <td>benzin</td>\n",
       "      <td>bmw</td>\n",
       "      <td>nein</td>\n",
       "      <td>2016-04-04 00:00:00</td>\n",
       "      <td>0</td>\n",
       "      <td>71034</td>\n",
       "      <td>2016-04-06 14:45:08</td>\n",
       "    </tr>\n",
       "    <tr>\n",
       "      <th>2</th>\n",
       "      <td>2016-03-26 18:57:24</td>\n",
       "      <td>Volkswagen_Golf_1.6_United</td>\n",
       "      <td>privat</td>\n",
       "      <td>Angebot</td>\n",
       "      <td>$8,990</td>\n",
       "      <td>test</td>\n",
       "      <td>limousine</td>\n",
       "      <td>2009</td>\n",
       "      <td>manuell</td>\n",
       "      <td>102</td>\n",
       "      <td>golf</td>\n",
       "      <td>70,000km</td>\n",
       "      <td>7</td>\n",
       "      <td>benzin</td>\n",
       "      <td>volkswagen</td>\n",
       "      <td>nein</td>\n",
       "      <td>2016-03-26 00:00:00</td>\n",
       "      <td>0</td>\n",
       "      <td>35394</td>\n",
       "      <td>2016-04-06 20:15:37</td>\n",
       "    </tr>\n",
       "    <tr>\n",
       "      <th>3</th>\n",
       "      <td>2016-03-12 16:58:10</td>\n",
       "      <td>Smart_smart_fortwo_coupe_softouch/F1/Klima/Pan...</td>\n",
       "      <td>privat</td>\n",
       "      <td>Angebot</td>\n",
       "      <td>$4,350</td>\n",
       "      <td>control</td>\n",
       "      <td>kleinwagen</td>\n",
       "      <td>2007</td>\n",
       "      <td>automatik</td>\n",
       "      <td>71</td>\n",
       "      <td>fortwo</td>\n",
       "      <td>70,000km</td>\n",
       "      <td>6</td>\n",
       "      <td>benzin</td>\n",
       "      <td>smart</td>\n",
       "      <td>nein</td>\n",
       "      <td>2016-03-12 00:00:00</td>\n",
       "      <td>0</td>\n",
       "      <td>33729</td>\n",
       "      <td>2016-03-15 03:16:28</td>\n",
       "    </tr>\n",
       "    <tr>\n",
       "      <th>4</th>\n",
       "      <td>2016-04-01 14:38:50</td>\n",
       "      <td>Ford_Focus_1_6_Benzin_TÜV_neu_ist_sehr_gepfleg...</td>\n",
       "      <td>privat</td>\n",
       "      <td>Angebot</td>\n",
       "      <td>$1,350</td>\n",
       "      <td>test</td>\n",
       "      <td>kombi</td>\n",
       "      <td>2003</td>\n",
       "      <td>manuell</td>\n",
       "      <td>0</td>\n",
       "      <td>focus</td>\n",
       "      <td>150,000km</td>\n",
       "      <td>7</td>\n",
       "      <td>benzin</td>\n",
       "      <td>ford</td>\n",
       "      <td>nein</td>\n",
       "      <td>2016-04-01 00:00:00</td>\n",
       "      <td>0</td>\n",
       "      <td>39218</td>\n",
       "      <td>2016-04-01 14:38:50</td>\n",
       "    </tr>\n",
       "  </tbody>\n",
       "</table>\n",
       "</div>"
      ],
      "text/plain": [
       "           dateCrawled                                               name  \\\n",
       "0  2016-03-26 17:47:46                   Peugeot_807_160_NAVTECH_ON_BOARD   \n",
       "1  2016-04-04 13:38:56         BMW_740i_4_4_Liter_HAMANN_UMBAU_Mega_Optik   \n",
       "2  2016-03-26 18:57:24                         Volkswagen_Golf_1.6_United   \n",
       "3  2016-03-12 16:58:10  Smart_smart_fortwo_coupe_softouch/F1/Klima/Pan...   \n",
       "4  2016-04-01 14:38:50  Ford_Focus_1_6_Benzin_TÜV_neu_ist_sehr_gepfleg...   \n",
       "\n",
       "   seller offerType   price   abtest vehicleType  yearOfRegistration  \\\n",
       "0  privat   Angebot  $5,000  control         bus                2004   \n",
       "1  privat   Angebot  $8,500  control   limousine                1997   \n",
       "2  privat   Angebot  $8,990     test   limousine                2009   \n",
       "3  privat   Angebot  $4,350  control  kleinwagen                2007   \n",
       "4  privat   Angebot  $1,350     test       kombi                2003   \n",
       "\n",
       "     gearbox  powerPS   model   odometer  monthOfRegistration fuelType  \\\n",
       "0    manuell      158  andere  150,000km                    3      lpg   \n",
       "1  automatik      286     7er  150,000km                    6   benzin   \n",
       "2    manuell      102    golf   70,000km                    7   benzin   \n",
       "3  automatik       71  fortwo   70,000km                    6   benzin   \n",
       "4    manuell        0   focus  150,000km                    7   benzin   \n",
       "\n",
       "        brand notRepairedDamage          dateCreated  nrOfPictures  \\\n",
       "0     peugeot              nein  2016-03-26 00:00:00             0   \n",
       "1         bmw              nein  2016-04-04 00:00:00             0   \n",
       "2  volkswagen              nein  2016-03-26 00:00:00             0   \n",
       "3       smart              nein  2016-03-12 00:00:00             0   \n",
       "4        ford              nein  2016-04-01 00:00:00             0   \n",
       "\n",
       "   postalCode             lastSeen  \n",
       "0       79588  2016-04-06 06:45:54  \n",
       "1       71034  2016-04-06 14:45:08  \n",
       "2       35394  2016-04-06 20:15:37  \n",
       "3       33729  2016-03-15 03:16:28  \n",
       "4       39218  2016-04-01 14:38:50  "
      ]
     },
     "execution_count": 3,
     "metadata": {},
     "output_type": "execute_result"
    }
   ],
   "source": [
    "# review the first 5 rows \n",
    "autos.head()"
   ]
  },
  {
   "cell_type": "code",
   "execution_count": 4,
   "metadata": {
    "collapsed": false
   },
   "outputs": [
    {
     "name": "stdout",
     "output_type": "stream",
     "text": [
      "<class 'pandas.core.frame.DataFrame'>\n",
      "RangeIndex: 50000 entries, 0 to 49999\n",
      "Data columns (total 20 columns):\n",
      "dateCrawled            50000 non-null object\n",
      "name                   50000 non-null object\n",
      "seller                 50000 non-null object\n",
      "offerType              50000 non-null object\n",
      "price                  50000 non-null object\n",
      "abtest                 50000 non-null object\n",
      "vehicleType            44905 non-null object\n",
      "yearOfRegistration     50000 non-null int64\n",
      "gearbox                47320 non-null object\n",
      "powerPS                50000 non-null int64\n",
      "model                  47242 non-null object\n",
      "odometer               50000 non-null object\n",
      "monthOfRegistration    50000 non-null int64\n",
      "fuelType               45518 non-null object\n",
      "brand                  50000 non-null object\n",
      "notRepairedDamage      40171 non-null object\n",
      "dateCreated            50000 non-null object\n",
      "nrOfPictures           50000 non-null int64\n",
      "postalCode             50000 non-null int64\n",
      "lastSeen               50000 non-null object\n",
      "dtypes: int64(5), object(15)\n",
      "memory usage: 7.6+ MB\n"
     ]
    }
   ],
   "source": [
    "# check the information of data\n",
    "autos.info()"
   ]
  },
  {
   "cell_type": "markdown",
   "metadata": {},
   "source": [
    "### Cleaning Column Names\n",
    "\n",
    "We can make the following observations:\n",
    "* The dataset contains 20 columns, most of which are strings.\n",
    "* Some columns have null values, but none have more than ~20% null values.\n",
    "* The column name use camelcase instead of Python's preferred snakecase, which means we can't just replace spaces with underscore."
   ]
  },
  {
   "cell_type": "code",
   "execution_count": 5,
   "metadata": {
    "collapsed": false,
    "scrolled": true
   },
   "outputs": [
    {
     "data": {
      "text/plain": [
       "Index(['dateCrawled', 'name', 'seller', 'offerType', 'price', 'abtest',\n",
       "       'vehicleType', 'yearOfRegistration', 'gearbox', 'powerPS', 'model',\n",
       "       'odometer', 'monthOfRegistration', 'fuelType', 'brand',\n",
       "       'notRepairedDamage', 'dateCreated', 'nrOfPictures', 'postalCode',\n",
       "       'lastSeen'],\n",
       "      dtype='object')"
      ]
     },
     "execution_count": 5,
     "metadata": {},
     "output_type": "execute_result"
    }
   ],
   "source": [
    "# print an array of the existing column names\n",
    "autos.columns"
   ]
  },
  {
   "cell_type": "code",
   "execution_count": 6,
   "metadata": {
    "collapsed": false
   },
   "outputs": [
    {
     "name": "stdout",
     "output_type": "stream",
     "text": [
      "Index(['datecrawled', 'name', 'seller', 'offertype', 'price', 'abtest',\n",
      "       'vehicletype', 'registration_year', 'gearbox', 'powerps', 'model',\n",
      "       'odometer', 'registration_month', 'fueltype', 'brand',\n",
      "       'unrepaired_damage', 'ad_created', 'nrofpictures', 'postalcode',\n",
      "       'lastseen'],\n",
      "      dtype='object')\n"
     ]
    }
   ],
   "source": [
    "# rename below columns with funtion \"clean_column\"\n",
    "def cleaning(col):\n",
    "    \"\"\"\n",
    "    column names below use camelcase instead of Python's preferred\n",
    "    snakecase, so we need to modify column names manually\n",
    "    \"\"\"\n",
    "    col = col.replace(\"yearOfRegistration\", \"registration_year\")\n",
    "    col = col.replace(\"monthOfRegistration\", \"registration_month\")\n",
    "    col = col.replace(\"notRepairedDamage\", \"unrepaired_damage\")\n",
    "    col = col.replace(\"dateCreated\", \"ad_created\")\n",
    "    col = col.lower()\n",
    "    return col\n",
    "\n",
    "\n",
    "\n",
    "# use an empty list and iterate column names to \n",
    "# rename with funtion \"cleaning\"\n",
    "cleaned_column = []\n",
    "for i in autos.columns:\n",
    "    updated_name = cleaning(i)\n",
    "    cleaned_column.append(updated_name)\n",
    "    \n",
    "# assign the modified column names back to DataFrame.columns\n",
    "autos.columns = cleaned_column\n",
    "print(autos.columns)\n"
   ]
  },
  {
   "cell_type": "markdown",
   "metadata": {},
   "source": [
    "### Initial Exploration and Cleaning\n",
    "Now let's do some basic data exploration to determine what other cleaning tasks need to be done. Initially we will look for: - Text columns where all or almost all values are the same. These can often be dropped as they don't have useful information for analysis. - Examples of numeric data stored as text which can be cleaned and converted."
   ]
  },
  {
   "cell_type": "code",
   "execution_count": 7,
   "metadata": {
    "collapsed": false
   },
   "outputs": [
    {
     "data": {
      "text/html": [
       "<div>\n",
       "<style scoped>\n",
       "    .dataframe tbody tr th:only-of-type {\n",
       "        vertical-align: middle;\n",
       "    }\n",
       "\n",
       "    .dataframe tbody tr th {\n",
       "        vertical-align: top;\n",
       "    }\n",
       "\n",
       "    .dataframe thead th {\n",
       "        text-align: right;\n",
       "    }\n",
       "</style>\n",
       "<table border=\"1\" class=\"dataframe\">\n",
       "  <thead>\n",
       "    <tr style=\"text-align: right;\">\n",
       "      <th></th>\n",
       "      <th>registration_year</th>\n",
       "      <th>powerps</th>\n",
       "      <th>registration_month</th>\n",
       "      <th>nrofpictures</th>\n",
       "      <th>postalcode</th>\n",
       "    </tr>\n",
       "  </thead>\n",
       "  <tbody>\n",
       "    <tr>\n",
       "      <th>count</th>\n",
       "      <td>50000.000000</td>\n",
       "      <td>50000.000000</td>\n",
       "      <td>50000.000000</td>\n",
       "      <td>50000.0</td>\n",
       "      <td>50000.000000</td>\n",
       "    </tr>\n",
       "    <tr>\n",
       "      <th>mean</th>\n",
       "      <td>2005.073280</td>\n",
       "      <td>116.355920</td>\n",
       "      <td>5.723360</td>\n",
       "      <td>0.0</td>\n",
       "      <td>50813.627300</td>\n",
       "    </tr>\n",
       "    <tr>\n",
       "      <th>std</th>\n",
       "      <td>105.712813</td>\n",
       "      <td>209.216627</td>\n",
       "      <td>3.711984</td>\n",
       "      <td>0.0</td>\n",
       "      <td>25779.747957</td>\n",
       "    </tr>\n",
       "    <tr>\n",
       "      <th>min</th>\n",
       "      <td>1000.000000</td>\n",
       "      <td>0.000000</td>\n",
       "      <td>0.000000</td>\n",
       "      <td>0.0</td>\n",
       "      <td>1067.000000</td>\n",
       "    </tr>\n",
       "    <tr>\n",
       "      <th>25%</th>\n",
       "      <td>1999.000000</td>\n",
       "      <td>70.000000</td>\n",
       "      <td>3.000000</td>\n",
       "      <td>0.0</td>\n",
       "      <td>30451.000000</td>\n",
       "    </tr>\n",
       "    <tr>\n",
       "      <th>50%</th>\n",
       "      <td>2003.000000</td>\n",
       "      <td>105.000000</td>\n",
       "      <td>6.000000</td>\n",
       "      <td>0.0</td>\n",
       "      <td>49577.000000</td>\n",
       "    </tr>\n",
       "    <tr>\n",
       "      <th>75%</th>\n",
       "      <td>2008.000000</td>\n",
       "      <td>150.000000</td>\n",
       "      <td>9.000000</td>\n",
       "      <td>0.0</td>\n",
       "      <td>71540.000000</td>\n",
       "    </tr>\n",
       "    <tr>\n",
       "      <th>max</th>\n",
       "      <td>9999.000000</td>\n",
       "      <td>17700.000000</td>\n",
       "      <td>12.000000</td>\n",
       "      <td>0.0</td>\n",
       "      <td>99998.000000</td>\n",
       "    </tr>\n",
       "  </tbody>\n",
       "</table>\n",
       "</div>"
      ],
      "text/plain": [
       "       registration_year       powerps  registration_month  nrofpictures  \\\n",
       "count       50000.000000  50000.000000        50000.000000       50000.0   \n",
       "mean         2005.073280    116.355920            5.723360           0.0   \n",
       "std           105.712813    209.216627            3.711984           0.0   \n",
       "min          1000.000000      0.000000            0.000000           0.0   \n",
       "25%          1999.000000     70.000000            3.000000           0.0   \n",
       "50%          2003.000000    105.000000            6.000000           0.0   \n",
       "75%          2008.000000    150.000000            9.000000           0.0   \n",
       "max          9999.000000  17700.000000           12.000000           0.0   \n",
       "\n",
       "         postalcode  \n",
       "count  50000.000000  \n",
       "mean   50813.627300  \n",
       "std    25779.747957  \n",
       "min     1067.000000  \n",
       "25%    30451.000000  \n",
       "50%    49577.000000  \n",
       "75%    71540.000000  \n",
       "max    99998.000000  "
      ]
     },
     "execution_count": 7,
     "metadata": {},
     "output_type": "execute_result"
    }
   ],
   "source": [
    "# look at descriptive statistics for all columns\n",
    "autos.describe()"
   ]
  },
  {
   "cell_type": "code",
   "execution_count": 8,
   "metadata": {
    "collapsed": false
   },
   "outputs": [
    {
     "data": {
      "text/html": [
       "<div>\n",
       "<style scoped>\n",
       "    .dataframe tbody tr th:only-of-type {\n",
       "        vertical-align: middle;\n",
       "    }\n",
       "\n",
       "    .dataframe tbody tr th {\n",
       "        vertical-align: top;\n",
       "    }\n",
       "\n",
       "    .dataframe thead th {\n",
       "        text-align: right;\n",
       "    }\n",
       "</style>\n",
       "<table border=\"1\" class=\"dataframe\">\n",
       "  <thead>\n",
       "    <tr style=\"text-align: right;\">\n",
       "      <th></th>\n",
       "      <th>datecrawled</th>\n",
       "      <th>name</th>\n",
       "      <th>seller</th>\n",
       "      <th>offertype</th>\n",
       "      <th>price</th>\n",
       "      <th>abtest</th>\n",
       "      <th>vehicletype</th>\n",
       "      <th>registration_year</th>\n",
       "      <th>gearbox</th>\n",
       "      <th>powerps</th>\n",
       "      <th>model</th>\n",
       "      <th>odometer</th>\n",
       "      <th>registration_month</th>\n",
       "      <th>fueltype</th>\n",
       "      <th>brand</th>\n",
       "      <th>unrepaired_damage</th>\n",
       "      <th>ad_created</th>\n",
       "      <th>nrofpictures</th>\n",
       "      <th>postalcode</th>\n",
       "      <th>lastseen</th>\n",
       "    </tr>\n",
       "  </thead>\n",
       "  <tbody>\n",
       "    <tr>\n",
       "      <th>0</th>\n",
       "      <td>2016-03-26 17:47:46</td>\n",
       "      <td>Peugeot_807_160_NAVTECH_ON_BOARD</td>\n",
       "      <td>privat</td>\n",
       "      <td>Angebot</td>\n",
       "      <td>$5,000</td>\n",
       "      <td>control</td>\n",
       "      <td>bus</td>\n",
       "      <td>2004</td>\n",
       "      <td>manuell</td>\n",
       "      <td>158</td>\n",
       "      <td>andere</td>\n",
       "      <td>150,000km</td>\n",
       "      <td>3</td>\n",
       "      <td>lpg</td>\n",
       "      <td>peugeot</td>\n",
       "      <td>nein</td>\n",
       "      <td>2016-03-26 00:00:00</td>\n",
       "      <td>0</td>\n",
       "      <td>79588</td>\n",
       "      <td>2016-04-06 06:45:54</td>\n",
       "    </tr>\n",
       "    <tr>\n",
       "      <th>1</th>\n",
       "      <td>2016-04-04 13:38:56</td>\n",
       "      <td>BMW_740i_4_4_Liter_HAMANN_UMBAU_Mega_Optik</td>\n",
       "      <td>privat</td>\n",
       "      <td>Angebot</td>\n",
       "      <td>$8,500</td>\n",
       "      <td>control</td>\n",
       "      <td>limousine</td>\n",
       "      <td>1997</td>\n",
       "      <td>automatik</td>\n",
       "      <td>286</td>\n",
       "      <td>7er</td>\n",
       "      <td>150,000km</td>\n",
       "      <td>6</td>\n",
       "      <td>benzin</td>\n",
       "      <td>bmw</td>\n",
       "      <td>nein</td>\n",
       "      <td>2016-04-04 00:00:00</td>\n",
       "      <td>0</td>\n",
       "      <td>71034</td>\n",
       "      <td>2016-04-06 14:45:08</td>\n",
       "    </tr>\n",
       "    <tr>\n",
       "      <th>2</th>\n",
       "      <td>2016-03-26 18:57:24</td>\n",
       "      <td>Volkswagen_Golf_1.6_United</td>\n",
       "      <td>privat</td>\n",
       "      <td>Angebot</td>\n",
       "      <td>$8,990</td>\n",
       "      <td>test</td>\n",
       "      <td>limousine</td>\n",
       "      <td>2009</td>\n",
       "      <td>manuell</td>\n",
       "      <td>102</td>\n",
       "      <td>golf</td>\n",
       "      <td>70,000km</td>\n",
       "      <td>7</td>\n",
       "      <td>benzin</td>\n",
       "      <td>volkswagen</td>\n",
       "      <td>nein</td>\n",
       "      <td>2016-03-26 00:00:00</td>\n",
       "      <td>0</td>\n",
       "      <td>35394</td>\n",
       "      <td>2016-04-06 20:15:37</td>\n",
       "    </tr>\n",
       "    <tr>\n",
       "      <th>3</th>\n",
       "      <td>2016-03-12 16:58:10</td>\n",
       "      <td>Smart_smart_fortwo_coupe_softouch/F1/Klima/Pan...</td>\n",
       "      <td>privat</td>\n",
       "      <td>Angebot</td>\n",
       "      <td>$4,350</td>\n",
       "      <td>control</td>\n",
       "      <td>kleinwagen</td>\n",
       "      <td>2007</td>\n",
       "      <td>automatik</td>\n",
       "      <td>71</td>\n",
       "      <td>fortwo</td>\n",
       "      <td>70,000km</td>\n",
       "      <td>6</td>\n",
       "      <td>benzin</td>\n",
       "      <td>smart</td>\n",
       "      <td>nein</td>\n",
       "      <td>2016-03-12 00:00:00</td>\n",
       "      <td>0</td>\n",
       "      <td>33729</td>\n",
       "      <td>2016-03-15 03:16:28</td>\n",
       "    </tr>\n",
       "    <tr>\n",
       "      <th>4</th>\n",
       "      <td>2016-04-01 14:38:50</td>\n",
       "      <td>Ford_Focus_1_6_Benzin_TÜV_neu_ist_sehr_gepfleg...</td>\n",
       "      <td>privat</td>\n",
       "      <td>Angebot</td>\n",
       "      <td>$1,350</td>\n",
       "      <td>test</td>\n",
       "      <td>kombi</td>\n",
       "      <td>2003</td>\n",
       "      <td>manuell</td>\n",
       "      <td>0</td>\n",
       "      <td>focus</td>\n",
       "      <td>150,000km</td>\n",
       "      <td>7</td>\n",
       "      <td>benzin</td>\n",
       "      <td>ford</td>\n",
       "      <td>nein</td>\n",
       "      <td>2016-04-01 00:00:00</td>\n",
       "      <td>0</td>\n",
       "      <td>39218</td>\n",
       "      <td>2016-04-01 14:38:50</td>\n",
       "    </tr>\n",
       "  </tbody>\n",
       "</table>\n",
       "</div>"
      ],
      "text/plain": [
       "           datecrawled                                               name  \\\n",
       "0  2016-03-26 17:47:46                   Peugeot_807_160_NAVTECH_ON_BOARD   \n",
       "1  2016-04-04 13:38:56         BMW_740i_4_4_Liter_HAMANN_UMBAU_Mega_Optik   \n",
       "2  2016-03-26 18:57:24                         Volkswagen_Golf_1.6_United   \n",
       "3  2016-03-12 16:58:10  Smart_smart_fortwo_coupe_softouch/F1/Klima/Pan...   \n",
       "4  2016-04-01 14:38:50  Ford_Focus_1_6_Benzin_TÜV_neu_ist_sehr_gepfleg...   \n",
       "\n",
       "   seller offertype   price   abtest vehicletype  registration_year  \\\n",
       "0  privat   Angebot  $5,000  control         bus               2004   \n",
       "1  privat   Angebot  $8,500  control   limousine               1997   \n",
       "2  privat   Angebot  $8,990     test   limousine               2009   \n",
       "3  privat   Angebot  $4,350  control  kleinwagen               2007   \n",
       "4  privat   Angebot  $1,350     test       kombi               2003   \n",
       "\n",
       "     gearbox  powerps   model   odometer  registration_month fueltype  \\\n",
       "0    manuell      158  andere  150,000km                   3      lpg   \n",
       "1  automatik      286     7er  150,000km                   6   benzin   \n",
       "2    manuell      102    golf   70,000km                   7   benzin   \n",
       "3  automatik       71  fortwo   70,000km                   6   benzin   \n",
       "4    manuell        0   focus  150,000km                   7   benzin   \n",
       "\n",
       "        brand unrepaired_damage           ad_created  nrofpictures  \\\n",
       "0     peugeot              nein  2016-03-26 00:00:00             0   \n",
       "1         bmw              nein  2016-04-04 00:00:00             0   \n",
       "2  volkswagen              nein  2016-03-26 00:00:00             0   \n",
       "3       smart              nein  2016-03-12 00:00:00             0   \n",
       "4        ford              nein  2016-04-01 00:00:00             0   \n",
       "\n",
       "   postalcode             lastseen  \n",
       "0       79588  2016-04-06 06:45:54  \n",
       "1       71034  2016-04-06 14:45:08  \n",
       "2       35394  2016-04-06 20:15:37  \n",
       "3       33729  2016-03-15 03:16:28  \n",
       "4       39218  2016-04-01 14:38:50  "
      ]
     },
     "execution_count": 8,
     "metadata": {},
     "output_type": "execute_result"
    }
   ],
   "source": [
    "# check more\n",
    "autos.head()"
   ]
  },
  {
   "cell_type": "code",
   "execution_count": 9,
   "metadata": {
    "collapsed": false
   },
   "outputs": [],
   "source": [
    "# Drop the columns that mostly values are the same and \n",
    "# not critical for further analysis\n",
    "autos = autos.drop([\"nrofpictures\",\"seller\", \"offertype\"], axis = 1)"
   ]
  },
  {
   "cell_type": "code",
   "execution_count": 10,
   "metadata": {
    "collapsed": false
   },
   "outputs": [
    {
     "name": "stdout",
     "output_type": "stream",
     "text": [
      "count     50000\n",
      "unique     2357\n",
      "top          $0\n",
      "freq       1421\n",
      "Name: price, dtype: object\n",
      "--------------------\n",
      "count         50000\n",
      "unique           13\n",
      "top       150,000km\n",
      "freq          32424\n",
      "Name: odometer, dtype: object\n"
     ]
    }
   ],
   "source": [
    "# price and odometer columns are numeric values stored as text\n",
    "\n",
    "print(autos[\"price\"].describe())\n",
    "print('--------------------')\n",
    "print(autos[\"odometer\"].describe())"
   ]
  },
  {
   "cell_type": "code",
   "execution_count": 11,
   "metadata": {
    "collapsed": false
   },
   "outputs": [],
   "source": [
    "# remove any non-numeric characters\n",
    "# convert the column to numeric dtype\n",
    "autos[\"price\"] = autos[\"price\"].str.replace(\"$\",\"\").str.replace(\",\",\"\").astype(int)\n",
    "autos[\"odometer\"] = autos[\"odometer\"].str.replace(\"km\",\"\").str.replace(\",\",\"\").astype(int)\n",
    "\n",
    "# rename the column\n",
    "autos.rename({\"odometer\":\"odometer_km\"}, axis = 1, inplace = True)"
   ]
  },
  {
   "cell_type": "code",
   "execution_count": 12,
   "metadata": {
    "collapsed": false
   },
   "outputs": [
    {
     "data": {
      "text/plain": [
       "2357"
      ]
     },
     "execution_count": 12,
     "metadata": {},
     "output_type": "execute_result"
    }
   ],
   "source": [
    "# see how many unique values of price\n",
    "autos[\"price\"].unique().shape[0]"
   ]
  },
  {
   "cell_type": "code",
   "execution_count": 13,
   "metadata": {
    "collapsed": false
   },
   "outputs": [
    {
     "data": {
      "text/plain": [
       "47337      259000\n",
       "12682      265000\n",
       "35923      295000\n",
       "34723      299000\n",
       "14715      345000\n",
       "36818      350000\n",
       "37585      999990\n",
       "514        999999\n",
       "43049      999999\n",
       "22947     1234566\n",
       "7814      1300000\n",
       "47634     3890000\n",
       "11137    10000000\n",
       "24384    11111111\n",
       "2897     11111111\n",
       "27371    12345678\n",
       "47598    12345678\n",
       "39377    12345678\n",
       "42221    27322222\n",
       "39705    99999999\n",
       "Name: price, dtype: int64"
      ]
     },
     "execution_count": 13,
     "metadata": {},
     "output_type": "execute_result"
    }
   ],
   "source": [
    "# Price suddenly arises from $350,000 to $999,990\n",
    "# Given we are studying used cars which should be lower expenses\n",
    "# we are more likely to drop the outliers of data\n",
    "autos[\"price\"].sort_values(ascending = True).tail(20)"
   ]
  },
  {
   "cell_type": "code",
   "execution_count": 14,
   "metadata": {
    "collapsed": true
   },
   "outputs": [],
   "source": [
    "# keep the data which price lies within $350,000\n",
    "autos = autos[autos[\"price\"].between(1,350001)]"
   ]
  },
  {
   "cell_type": "code",
   "execution_count": 15,
   "metadata": {
    "collapsed": false
   },
   "outputs": [
    {
     "data": {
      "text/plain": [
       "150000    31414\n",
       "125000     5057\n",
       "100000     2115\n",
       "90000      1734\n",
       "80000      1415\n",
       "70000      1217\n",
       "60000      1155\n",
       "50000      1012\n",
       "5000        836\n",
       "40000       815\n",
       "30000       780\n",
       "20000       762\n",
       "10000       253\n",
       "Name: odometer_km, dtype: int64"
      ]
     },
     "execution_count": 15,
     "metadata": {},
     "output_type": "execute_result"
    }
   ],
   "source": [
    "# no obvious data need to be removed\n",
    "autos[\"odometer_km\"].value_counts(ascending = False)"
   ]
  },
  {
   "cell_type": "code",
   "execution_count": 16,
   "metadata": {
    "collapsed": false,
    "scrolled": true
   },
   "outputs": [
    {
     "data": {
      "text/plain": [
       "count     48565.000000\n",
       "mean       5888.935591\n",
       "std        9059.854754\n",
       "min           1.000000\n",
       "25%        1200.000000\n",
       "50%        3000.000000\n",
       "75%        7490.000000\n",
       "max      350000.000000\n",
       "Name: price, dtype: float64"
      ]
     },
     "execution_count": 16,
     "metadata": {},
     "output_type": "execute_result"
    }
   ],
   "source": [
    "# 1,435 outlier data was removed\n",
    "autos[\"price\"].describe()"
   ]
  },
  {
   "cell_type": "markdown",
   "metadata": {},
   "source": [
    "### Exploring the date columns"
   ]
  },
  {
   "cell_type": "code",
   "execution_count": 17,
   "metadata": {
    "collapsed": false
   },
   "outputs": [
    {
     "name": "stdout",
     "output_type": "stream",
     "text": [
      "2016-03-05    0.025327\n",
      "2016-03-06    0.014043\n",
      "2016-03-07    0.036014\n",
      "2016-03-08    0.033296\n",
      "2016-03-09    0.033090\n",
      "Name: datecrawled, dtype: float64\n"
     ]
    }
   ],
   "source": [
    "# use str[:10] to extract \"yyyy-mm-dd\"\n",
    "# \"series.value_counts()\" to see distribution\n",
    "# \"normalize = True\" to see percentage\n",
    "# chain \"series.sort_values(ascending = True)\" to see earliest to latest\n",
    "\n",
    "# date_crawled\n",
    "    \n",
    "date_crawled = autos[\"datecrawled\"].str[:10]\n",
    "date_crawled = date_crawled.value_counts(normalize = True, dropna = False).sort_index(ascending = True)\n",
    "print(date_crawled.head())\n"
   ]
  },
  {
   "cell_type": "code",
   "execution_count": 18,
   "metadata": {
    "collapsed": false
   },
   "outputs": [
    {
     "name": "stdout",
     "output_type": "stream",
     "text": [
      "2016-01-13    0.000021\n",
      "2015-06-11    0.000021\n",
      "2016-02-07    0.000021\n",
      "2016-02-11    0.000021\n",
      "2016-01-22    0.000021\n",
      "Name: ad_created, dtype: float64\n"
     ]
    }
   ],
   "source": [
    "# ad_created\n",
    "\n",
    "ad_created = autos[\"ad_created\"].str[:10]\n",
    "ad_created = ad_created.value_counts(normalize = True, dropna= False).sort_values(ascending = True)\n",
    "print(ad_created.head())\n"
   ]
  },
  {
   "cell_type": "code",
   "execution_count": 19,
   "metadata": {
    "collapsed": false,
    "scrolled": true
   },
   "outputs": [
    {
     "name": "stdout",
     "output_type": "stream",
     "text": [
      "2016-03-05    0.001071\n",
      "2016-03-06    0.004324\n",
      "2016-03-07    0.005395\n",
      "2016-03-18    0.007351\n",
      "2016-03-08    0.007413\n",
      "Name: lastseen, dtype: float64\n"
     ]
    }
   ],
   "source": [
    "# last_seen\n",
    "\n",
    "last_seen = autos[\"lastseen\"].str[:10]\n",
    "last_seen = last_seen.value_counts(normalize = True, dropna = False).sort_values(ascending = True)\n",
    "print(last_seen.head())\n"
   ]
  },
  {
   "cell_type": "code",
   "execution_count": 20,
   "metadata": {
    "collapsed": false,
    "scrolled": true
   },
   "outputs": [
    {
     "data": {
      "text/plain": [
       "count    48565.000000\n",
       "mean      2004.755421\n",
       "std         88.643887\n",
       "min       1000.000000\n",
       "25%       1999.000000\n",
       "50%       2004.000000\n",
       "75%       2008.000000\n",
       "max       9999.000000\n",
       "Name: registration_year, dtype: float64"
      ]
     },
     "execution_count": 20,
     "metadata": {},
     "output_type": "execute_result"
    }
   ],
   "source": [
    "# use Series.describe() to understand the distribution\n",
    "# of registration_year\n",
    "\n",
    "autos[\"registration_year\"].describe()"
   ]
  },
  {
   "cell_type": "markdown",
   "metadata": {},
   "source": [
    "### Dealing with Incorrect Registration Year Data\n",
    "\n",
    "Based on exploration above, \n",
    "* The min value is the year of 1000, before car is invented\n",
    "* The max value is the year of 9999, many years into the future\n",
    "\n",
    "According to our common sense, the car was invented in the early 1900s. Besides, the car can't be registered after this data was collected in 2016. \n",
    "\n",
    "We'd like to count the number with cars that fall outside the 1900 - 2016. \n",
    "\n",
    "Let's research a little bit further."
   ]
  },
  {
   "cell_type": "code",
   "execution_count": 21,
   "metadata": {
    "collapsed": false,
    "scrolled": true
   },
   "outputs": [
    {
     "name": "stdout",
     "output_type": "stream",
     "text": [
      "Number of which registration year after 2016: 1879\n",
      "Number of which registration year before 1900: 5\n"
     ]
    }
   ],
   "source": [
    "# count number of outlier\n",
    "registration_bool_1 = (autos[\"registration_year\"] > 2016)\n",
    "print('Number of which registration year after 2016:',sum(registration_bool_1))\n",
    "registration_bool_2 = (autos[\"registration_year\"] < 1900)\n",
    "print('Number of which registration year before 1900:',sum(registration_bool_2))\n",
    "\n"
   ]
  },
  {
   "cell_type": "code",
   "execution_count": 22,
   "metadata": {
    "collapsed": false
   },
   "outputs": [
    {
     "data": {
      "text/plain": [
       "2000    0.067608\n",
       "2005    0.062895\n",
       "1999    0.062060\n",
       "2004    0.057904\n",
       "2003    0.057818\n",
       "2006    0.057197\n",
       "2001    0.056468\n",
       "2002    0.053255\n",
       "1998    0.050620\n",
       "2007    0.048778\n",
       "Name: registration_year, dtype: float64"
      ]
     },
     "execution_count": 22,
     "metadata": {},
     "output_type": "execute_result"
    }
   ],
   "source": [
    "# use boolean to keep value which \n",
    "# registration_year within the range 1900 and 2016\n",
    "bool_1 = (autos[\"registration_year\"] > 1900)\n",
    "bool_2 = (autos[\"registration_year\"] < 2017)\n",
    "autos = autos.loc[bool_1 & bool_2]\n",
    "\n",
    "# calculate the distribution of remaining values \n",
    "autos[\"registration_year\"].value_counts(normalize = True, ascending = False).head(10)\n"
   ]
  },
  {
   "cell_type": "markdown",
   "metadata": {
    "collapsed": true
   },
   "source": [
    "We found out most registration year was: 2000, 2005, 1999, 2004, 2003,...,etc, which means most used cars are over 10 years and if you purchase them, you might need to take good care to save repair expenses.\n",
    "\n",
    "### Exploring Price by Brand"
   ]
  },
  {
   "cell_type": "code",
   "execution_count": 23,
   "metadata": {
    "collapsed": false
   },
   "outputs": [
    {
     "name": "stdout",
     "output_type": "stream",
     "text": [
      "volkswagen       0.211264\n",
      "bmw              0.110045\n",
      "opel             0.107581\n",
      "mercedes_benz    0.096463\n",
      "audi             0.086566\n",
      "ford             0.069900\n",
      "renault          0.047150\n",
      "peugeot          0.029841\n",
      "fiat             0.025642\n",
      "seat             0.018273\n",
      "Name: brand, dtype: float64\n"
     ]
    }
   ],
   "source": [
    "# identify the unique values we want to aggregate by\n",
    "brands = autos[\"brand\"].value_counts(normalize=True)\n",
    "print(brands.head(10))\n",
    "\n",
    "# select Volkswagen, BMW, Opel, Mercedes Benz, Audi and Ford \n",
    "# to analyze its mean price."
   ]
  },
  {
   "cell_type": "markdown",
   "metadata": {},
   "source": [
    "Based on result above, we can tell German really loves German-brand as headquarter of top 5 brands on the list are located in German.\n",
    "Volkswagen(21%), BMW(11%), Opel(10%), Mercedes Benz(9%) and Audi(8%) are 59% in total.\n",
    "\n",
    "Except for German brands, no.6 on the list is American-brand Ford(6.9%). no.7 Renault(4.7%) and no.8 Peugeot(2.9%) are French-brand. "
   ]
  },
  {
   "cell_type": "code",
   "execution_count": 24,
   "metadata": {
    "collapsed": false
   },
   "outputs": [],
   "source": [
    "# select the brands which is over 5% in the market\n",
    "brands_over_5 = brands.index[:6]"
   ]
  },
  {
   "cell_type": "code",
   "execution_count": 25,
   "metadata": {
    "collapsed": false
   },
   "outputs": [
    {
     "name": "stdout",
     "output_type": "stream",
     "text": [
      "5402.41\n"
     ]
    }
   ],
   "source": [
    "# Try to calculate mean price of Volkswagen\n",
    "# and then finish a for-loop\n",
    "\n",
    "volkswagen = (autos[\"brand\"] == \"volkswagen\")\n",
    "volkswagen_price_mean = autos[\"price\"][volkswagen].mean().round(2)\n",
    "print(volkswagen_price_mean)\n",
    "\n",
    "# try to use a for-loop to finish mean values of the rest"
   ]
  },
  {
   "cell_type": "code",
   "execution_count": 26,
   "metadata": {
    "collapsed": false
   },
   "outputs": [
    {
     "name": "stdout",
     "output_type": "stream",
     "text": [
      "{'opel': 2975.24, 'volkswagen': 5402.41, 'bmw': 8332.82, 'mercedes_benz': 8628.45, 'ford': 3749.47, 'audi': 9336.69}\n"
     ]
    }
   ],
   "source": [
    "# create an empty list to store mean prices\n",
    "brand_mean_price = {}\n",
    "\n",
    "# use a for-loop to collect mean price\n",
    "for brand_name in brands_over_5:\n",
    "    bool_1 = (autos[\"brand\"] == brand_name)\n",
    "    mean_price = autos[\"price\"][bool_1].mean().round(2)\n",
    "    brand_mean_price[brand_name] = mean_price\n",
    "\n",
    "print(brand_mean_price)"
   ]
  },
  {
   "cell_type": "markdown",
   "metadata": {},
   "source": [
    "### Storing Aggregation Data in a DataFrame\n",
    "\n",
    "Among those brands with over 5% market share in eBay, we can classify brands by price as below.\n",
    "* Very expensive(>8000): Audi,Mercedes Benz, BMW\n",
    "* In between: Volkswagen\n",
    "* Less expensive(<4000): Ford, Opel"
   ]
  },
  {
   "cell_type": "markdown",
   "metadata": {},
   "source": [
    "Let's use aggregation to understand if there's any link between average mileage and average price."
   ]
  },
  {
   "cell_type": "code",
   "execution_count": 27,
   "metadata": {
    "collapsed": false
   },
   "outputs": [
    {
     "name": "stdout",
     "output_type": "stream",
     "text": [
      "{'opel': 129310.04, 'volkswagen': 128707.16, 'bmw': 132572.51, 'mercedes_benz': 130788.36, 'ford': 124266.01, 'audi': 129157.39}\n"
     ]
    }
   ],
   "source": [
    "#  calculate mean mileage of 6 brands\n",
    "brand_mean_mileage = {}\n",
    "\n",
    "for brand in brands_over_5:\n",
    "    bool_2 = (autos[\"brand\"] == brand)\n",
    "    mean_mileage = autos[\"odometer_km\"][bool_2].mean().round(2)\n",
    "    brand_mean_mileage[brand] = mean_mileage\n",
    "    \n",
    "print(brand_mean_mileage)\n"
   ]
  },
  {
   "cell_type": "code",
   "execution_count": 28,
   "metadata": {
    "collapsed": false
   },
   "outputs": [
    {
     "name": "stdout",
     "output_type": "stream",
     "text": [
      "               mean_price  mean_mileage\n",
      "audi              9336.69     129157.39\n",
      "mercedes_benz     8628.45     130788.36\n",
      "bmw               8332.82     132572.51\n",
      "volkswagen        5402.41     128707.16\n",
      "ford              3749.47     124266.01\n",
      "opel              2975.24     129310.04\n",
      "------------------------------------------\n",
      "              mean_price  mean_mileage\n",
      "mean_price      1.000000      0.612364\n",
      "mean_mileage    0.612364      1.000000\n"
     ]
    }
   ],
   "source": [
    "# convert both dictionaries to series object\n",
    "bmp_series = pd.Series(brand_mean_price)\n",
    "bmm_series = pd.Series(brand_mean_mileage)\n",
    "\n",
    "# create a dataframe from the first series object\n",
    "# df = pd.DataFrame({\"mean_price\":bmp_series, \"mean_mileage\":bmm_series})\n",
    "df = pd.DataFrame(bmp_series, columns=[\"mean_price\"])\n",
    "\n",
    "# assign the other series as a new column\n",
    "df[\"mean_mileage\"] = bmm_series\n",
    "\n",
    "# investigate the relationship between price & mileage\n",
    "print(df.sort_values(\"mean_price\", ascending = False))\n",
    "print('------------------------------------------')\n",
    "print(df.corr())\n"
   ]
  },
  {
   "cell_type": "markdown",
   "metadata": {},
   "source": [
    "For very expensive brands(Audi,Mercedes Benz, BMW), the more mileage, the price is less expensive.\n",
    "\n",
    "For less expensive brands(Ford, Opel), it's the same that the more mileage, cars would be sold at lower price."
   ]
  },
  {
   "cell_type": "markdown",
   "metadata": {},
   "source": [
    "### Identify categorical data that uses german words, translate them and map the values to their english counterparts"
   ]
  },
  {
   "cell_type": "code",
   "execution_count": 29,
   "metadata": {
    "collapsed": false
   },
   "outputs": [
    {
     "name": "stdout",
     "output_type": "stream",
     "text": [
      "['bus' 'limousine' 'kleinwagen' 'kombi' nan 'coupe' 'suv' 'cabrio'\n",
      " 'andere']\n",
      "\n",
      "['manuell' 'automatik' nan]\n",
      "\n",
      "['lpg' 'benzin' 'diesel' nan 'cng' 'hybrid' 'elektro' 'andere']\n",
      "\n",
      "['nein' nan 'ja']\n"
     ]
    }
   ],
   "source": [
    "# Below columns have german words and we'd like to translate into English\n",
    "print(autos[\"vehicletype\"].unique())\n",
    "print()\n",
    "print(autos[\"gearbox\"].unique())\n",
    "print()\n",
    "print(autos[\"fueltype\"].unique())\n",
    "print()\n",
    "print(autos[\"unrepaired_damage\"].unique())"
   ]
  },
  {
   "cell_type": "code",
   "execution_count": 30,
   "metadata": {
    "collapsed": false
   },
   "outputs": [
    {
     "name": "stdout",
     "output_type": "stream",
     "text": [
      "['bus' 'limousine' 'small car' 'combi' nan 'coupe' 'suv' 'convertible'\n",
      " 'other']\n"
     ]
    }
   ],
   "source": [
    "# build a vehicle type dictionary\n",
    "vehicletype_dict = {\"bus\":\"bus\", \"limousine\":\"limousine\",\n",
    "                    \"coupe\":\"coupe\", \"suv\":\"suv\",\n",
    "                    \"kleinwagen\":\"small car\", \"kombi\":\"combi\",\n",
    "                   \"cabrio\":\"convertible\", \"andere\":\"other\"}\n",
    "\n",
    "# mapping dictionary to column\n",
    "autos[\"vehicletype\"] = autos[\"vehicletype\"].map(vehicletype_dict)\n",
    "\n",
    "print(autos[\"vehicletype\"].unique())"
   ]
  },
  {
   "cell_type": "code",
   "execution_count": 31,
   "metadata": {
    "collapsed": false
   },
   "outputs": [
    {
     "name": "stdout",
     "output_type": "stream",
     "text": [
      "['manually' 'automatic' nan]\n",
      "['lpg' 'petrol' 'diesel' nan 'cng' 'hybrid' 'electro' 'other']\n",
      "['no' nan 'yes']\n"
     ]
    }
   ],
   "source": [
    "# grearbox dictionary\n",
    "gearbox_dict = {\"manuell\":\"manually\", \"automatik\":\"automatic\"}\n",
    "\n",
    "# fuel type dictionary\n",
    "fueltype_dict = {\"lpg\":\"lpg\", \"benzin\":\"petrol\", \"diesel\":\"diesel\",\n",
    "                \"cng\":\"cng\", \"hybrid\":\"hybrid\", \"elektro\":\"electro\",\n",
    "                \"andere\":\"other\"}\n",
    "# unrepaired damage\n",
    "ud_dict = {\"nein\":\"no\", \"ja\":\"yes\"}\n",
    "\n",
    "\n",
    "# mapping gearbox\n",
    "autos[\"gearbox\"] = autos[\"gearbox\"].map(gearbox_dict)\n",
    "print(autos[\"gearbox\"].unique())\n",
    "# mapping fueltype\n",
    "autos[\"fueltype\"] = autos[\"fueltype\"].map(fueltype_dict)\n",
    "print(autos[\"fueltype\"].unique())\n",
    "# mapping unrepaired damage\n",
    "autos[\"unrepaired_damage\"] = autos[\"unrepaired_damage\"].map(ud_dict)\n",
    "print(autos[\"unrepaired_damage\"].unique())"
   ]
  },
  {
   "cell_type": "markdown",
   "metadata": {},
   "source": [
    "### Convert the dates to be uniform numeric data, so `\"2016-03-21\"` becomes the integer `20160321`"
   ]
  },
  {
   "cell_type": "code",
   "execution_count": 32,
   "metadata": {
    "collapsed": false
   },
   "outputs": [
    {
     "data": {
      "text/plain": [
       "0    20160326\n",
       "1    20160404\n",
       "2    20160326\n",
       "3    20160312\n",
       "4    20160401\n",
       "Name: datecrawled, dtype: object"
      ]
     },
     "execution_count": 32,
     "metadata": {},
     "output_type": "execute_result"
    }
   ],
   "source": [
    "# extract datecrawled strings\n",
    "date = autos[\"datecrawled\"].str[:10]\n",
    "# remove \"-\" like \"20160321\" and return to column \"datecrawled\"\n",
    "autos[\"datecrawled\"] = date.str.replace(\"-\",\"\")\n",
    "autos[\"datecrawled\"].head()"
   ]
  },
  {
   "cell_type": "markdown",
   "metadata": {},
   "source": [
    "### Find the most common brand/model combinations"
   ]
  },
  {
   "cell_type": "code",
   "execution_count": 33,
   "metadata": {
    "collapsed": false
   },
   "outputs": [
    {
     "name": "stdout",
     "output_type": "stream",
     "text": [
      "golf      0.083326\n",
      "andere    0.075818\n",
      "3er       0.058780\n",
      "polo      0.036167\n",
      "corsa     0.035785\n",
      "Name: model, dtype: float64\n"
     ]
    }
   ],
   "source": [
    "# Find the most common brand/model combinations\n",
    "model = autos[\"model\"].value_counts(normalize=True)\n",
    "print(model.head(5))\n",
    "# Top 5 model on the eBay is: Gold, Andere, 3er, polo and corsa\n",
    "\n",
    "def find_brand(model_name):\n",
    "    bool_1 = (autos[\"model\"]==model_name)\n",
    "    print(autos[bool_1][\"brand\"])\n",
    "    "
   ]
  },
  {
   "cell_type": "markdown",
   "metadata": {},
   "source": [
    "#### Top 5 brand/model on the eBay is:\n",
    "1. Volkswagen/Golf (8.3%)\n",
    "2. Peugeot/Andere (7.5%)\n",
    "3. BMW/3er (5.8%)\n",
    "4. Volkswagen/Polo (3.6%)\n",
    "5. Opel/Corsa (3.5%)"
   ]
  },
  {
   "cell_type": "markdown",
   "metadata": {},
   "source": [
    "### Split the `odometer_km` into groups, and use aggregation to see if average prices follows any patterns based on the milage."
   ]
  },
  {
   "cell_type": "code",
   "execution_count": 34,
   "metadata": {
    "collapsed": false
   },
   "outputs": [
    {
     "name": "stdout",
     "output_type": "stream",
     "text": [
      "        mean price\n",
      "5000        8874.0\n",
      "10000      20551.0\n",
      "20000      18448.0\n",
      "30000      16609.0\n",
      "40000      15500.0\n",
      "50000      13812.0\n",
      "60000      12385.0\n",
      "70000      10927.0\n",
      "80000       9722.0\n",
      "90000       8465.0\n",
      "100000      8133.0\n",
      "125000      6214.0\n",
      "150000      3768.0\n"
     ]
    }
   ],
   "source": [
    "# spilt the odometer_km into groups\n",
    "# use aggregation to see if average prices\n",
    "# follows any patterns based on the milage\n",
    "\n",
    "# find out frequency of milage and build a list for later use\n",
    "milage_percentage = autos[\"odometer_km\"].value_counts(normalize=True)\n",
    "milage_list = milage_percentage.index[:]\n",
    "\n",
    "\n",
    "# build an empty dictionary to find average price by milage\n",
    "milage_price = {}\n",
    "\n",
    "# use a for-loop and boolean method to calculate average price\n",
    "for milage in milage_list:\n",
    "    bool_3 = (autos[\"odometer_km\"] == milage)\n",
    "    A = autos[\"price\"][bool_3].mean().round()\n",
    "    milage_price[milage] = A\n",
    "    \n",
    "# print(milage_price) to check\n",
    "\n",
    "# establish a dataframe for analysis\n",
    "mp_series = pd.Series(milage_price)\n",
    "mp = pd.DataFrame(mp_series, columns = [\"mean price\"])\n",
    "print(mp)"
   ]
  },
  {
   "cell_type": "markdown",
   "metadata": {},
   "source": [
    "Based on dataframe above, we can seperate data into 2 groups.\n",
    "\n",
    "For milage less than 5000km, we can see the average price is also lower. We have to go deeper to analyze if there's another variable to affect price, brand and model for example.\n",
    "\n",
    "For another group which milage over 5000km to 150000km, we can see the more milage car is, the more depreciation it is which means the car is sold at cheaper price.\n",
    "\n",
    "I'm not sure how much is new car sold in Germany. In my country, most of new cars was sold at about $30000~$40000 tariff included. If you'd like to spend less money and have better quality, you could try to find cars which milage is in about 20000km.\n",
    "\n",
    "### How much cheaper are cars with damage than their non-damaged counterparts?"
   ]
  },
  {
   "cell_type": "code",
   "execution_count": 47,
   "metadata": {
    "collapsed": false,
    "scrolled": true
   },
   "outputs": [
    {
     "name": "stdout",
     "output_type": "stream",
     "text": [
      "     mean price\n",
      "no       7164.0\n",
      "yes      2241.0\n",
      "----------------------\n",
      "price difference between damaged and undamaged: 4923.0\n"
     ]
    }
   ],
   "source": [
    "# How much cheaper are cars with damage\n",
    "# than their non-damage counterparts\n",
    "# create a percentage \n",
    "damage_or_not = autos[\"unrepaired_damage\"].value_counts(normalize=True)\n",
    "yes_or_no = damage_or_not.index[:]\n",
    "\n",
    "# create an empty dictionary\n",
    "damage_price = {}\n",
    "\n",
    "# use a for-loop and boolean method to calculate average price\n",
    "for row in yes_or_no:\n",
    "    bool_4 = (autos[\"unrepaired_damage\"] == row)\n",
    "    damage_price_list = autos[bool_4][\"price\"].mean().round()\n",
    "    damage_price[row] = damage_price_list\n",
    "\n",
    "#  establish a dataframe for analysis\n",
    "dp_series = pd.Series(damage_price)\n",
    "dp = pd.DataFrame(dp_series, columns=[\"mean price\"])\n",
    "\n",
    "print(dp)\n",
    "print('----------------------')\n",
    "print('price difference between damaged and undamaged:',dp[\"mean price\"][0]-dp[\"mean price\"][1])"
   ]
  },
  {
   "cell_type": "markdown",
   "metadata": {},
   "source": [
    "Obviously, the car without damage can be sold at better price.\n",
    "\n",
    "Based on column above, average price of the damaged car is approximately $4900 cheaper than that of the undamaged car."
   ]
  }
 ],
 "metadata": {
  "kernelspec": {
   "display_name": "Python 3",
   "language": "python",
   "name": "python3"
  },
  "language_info": {
   "codemirror_mode": {
    "name": "ipython",
    "version": 3
   },
   "file_extension": ".py",
   "mimetype": "text/x-python",
   "name": "python",
   "nbconvert_exporter": "python",
   "pygments_lexer": "ipython3",
   "version": "3.4.3"
  }
 },
 "nbformat": 4,
 "nbformat_minor": 2
}
